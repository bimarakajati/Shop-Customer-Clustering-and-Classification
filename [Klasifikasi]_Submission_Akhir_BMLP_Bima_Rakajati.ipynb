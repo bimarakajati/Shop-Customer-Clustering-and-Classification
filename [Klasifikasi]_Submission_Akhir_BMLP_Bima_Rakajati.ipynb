{
  "cells": [
    {
      "cell_type": "markdown",
      "metadata": {
        "id": "fKADPWcFKlj3"
      },
      "source": [
        "# **1. Import Library**"
      ]
    },
    {
      "cell_type": "markdown",
      "metadata": {
        "id": "LgA3ERnVn84N"
      },
      "source": [
        "Pada tahap ini, kita perlu mengimpor beberapa pustaka (library) Python yang dibutuhkan untuk analisis data dan pembangunan model machine learning."
      ]
    },
    {
      "cell_type": "code",
      "execution_count": 9,
      "metadata": {
        "id": "BlmvjLY9M4Yj"
      },
      "outputs": [],
      "source": [
        "import pandas as pd\n",
        "from sklearn.model_selection import train_test_split\n",
        "from sklearn.linear_model import LogisticRegression\n",
        "from sklearn.tree import DecisionTreeClassifier\n",
        "from sklearn.ensemble import RandomForestClassifier\n",
        "from sklearn.neighbors import KNeighborsClassifier\n",
        "from sklearn.metrics import accuracy_score, f1_score, precision_score, recall_score, confusion_matrix\n",
        "import seaborn as sns\n",
        "import matplotlib.pyplot as plt"
      ]
    },
    {
      "cell_type": "markdown",
      "metadata": {
        "id": "f3YIEnAFKrKL"
      },
      "source": [
        "# **2. Memuat Dataset dari Hasil Clustering**"
      ]
    },
    {
      "cell_type": "markdown",
      "metadata": {
        "id": "Ey3ItwTen_7E"
      },
      "source": [
        "Pada tahap ini, kita perlu memuat dataset yang telah dihasilkan dari proses clustering sebelumnya."
      ]
    },
    {
      "cell_type": "code",
      "execution_count": 2,
      "metadata": {
        "id": "GHCGNTyrM5fS"
      },
      "outputs": [
        {
          "data": {
            "text/html": [
              "<div>\n",
              "<style scoped>\n",
              "    .dataframe tbody tr th:only-of-type {\n",
              "        vertical-align: middle;\n",
              "    }\n",
              "\n",
              "    .dataframe tbody tr th {\n",
              "        vertical-align: top;\n",
              "    }\n",
              "\n",
              "    .dataframe thead th {\n",
              "        text-align: right;\n",
              "    }\n",
              "</style>\n",
              "<table border=\"1\" class=\"dataframe\">\n",
              "  <thead>\n",
              "    <tr style=\"text-align: right;\">\n",
              "      <th></th>\n",
              "      <th>CustomerID</th>\n",
              "      <th>Gender</th>\n",
              "      <th>Age</th>\n",
              "      <th>Annual Income ($)</th>\n",
              "      <th>Spending Score (1-100)</th>\n",
              "      <th>Profession</th>\n",
              "      <th>Work Experience</th>\n",
              "      <th>Family Size</th>\n",
              "      <th>Cluster</th>\n",
              "    </tr>\n",
              "  </thead>\n",
              "  <tbody>\n",
              "    <tr>\n",
              "      <th>0</th>\n",
              "      <td>1</td>\n",
              "      <td>1</td>\n",
              "      <td>19</td>\n",
              "      <td>15000</td>\n",
              "      <td>39</td>\n",
              "      <td>5</td>\n",
              "      <td>1</td>\n",
              "      <td>4</td>\n",
              "      <td>0</td>\n",
              "    </tr>\n",
              "    <tr>\n",
              "      <th>1</th>\n",
              "      <td>2</td>\n",
              "      <td>1</td>\n",
              "      <td>21</td>\n",
              "      <td>35000</td>\n",
              "      <td>81</td>\n",
              "      <td>2</td>\n",
              "      <td>3</td>\n",
              "      <td>3</td>\n",
              "      <td>0</td>\n",
              "    </tr>\n",
              "    <tr>\n",
              "      <th>2</th>\n",
              "      <td>3</td>\n",
              "      <td>0</td>\n",
              "      <td>20</td>\n",
              "      <td>86000</td>\n",
              "      <td>6</td>\n",
              "      <td>2</td>\n",
              "      <td>1</td>\n",
              "      <td>1</td>\n",
              "      <td>0</td>\n",
              "    </tr>\n",
              "    <tr>\n",
              "      <th>3</th>\n",
              "      <td>4</td>\n",
              "      <td>0</td>\n",
              "      <td>23</td>\n",
              "      <td>59000</td>\n",
              "      <td>77</td>\n",
              "      <td>7</td>\n",
              "      <td>0</td>\n",
              "      <td>2</td>\n",
              "      <td>0</td>\n",
              "    </tr>\n",
              "    <tr>\n",
              "      <th>4</th>\n",
              "      <td>5</td>\n",
              "      <td>0</td>\n",
              "      <td>31</td>\n",
              "      <td>38000</td>\n",
              "      <td>40</td>\n",
              "      <td>3</td>\n",
              "      <td>2</td>\n",
              "      <td>6</td>\n",
              "      <td>0</td>\n",
              "    </tr>\n",
              "  </tbody>\n",
              "</table>\n",
              "</div>"
            ],
            "text/plain": [
              "   CustomerID  Gender  Age  Annual Income ($)  Spending Score (1-100)  \\\n",
              "0           1       1   19              15000                      39   \n",
              "1           2       1   21              35000                      81   \n",
              "2           3       0   20              86000                       6   \n",
              "3           4       0   23              59000                      77   \n",
              "4           5       0   31              38000                      40   \n",
              "\n",
              "   Profession  Work Experience  Family Size  Cluster  \n",
              "0           5                1            4        0  \n",
              "1           2                3            3        0  \n",
              "2           2                1            1        0  \n",
              "3           7                0            2        0  \n",
              "4           3                2            6        0  "
            ]
          },
          "execution_count": 2,
          "metadata": {},
          "output_type": "execute_result"
        }
      ],
      "source": [
        "# Read the dataset from the CSV file\n",
        "df_clustered_customers = pd.read_csv('data/Shop Customer Data/Clustered_Customers.csv')\n",
        "\n",
        "# Display the first few rows of the dataframe\n",
        "df_clustered_customers.head()"
      ]
    },
    {
      "cell_type": "markdown",
      "metadata": {
        "id": "KkPem5eWL2UP"
      },
      "source": [
        "# **3. Data Splitting**"
      ]
    },
    {
      "cell_type": "markdown",
      "metadata": {
        "id": "YYj1rl_JNI9Y"
      },
      "source": [
        "Pada tahap ini, kita perlu membagi dataset ke dalam training set dan testing set. Training set digunakan untuk melatih model machine learning, sedangkan testing set digunakan untuk menguji model machine learning. Dalam kasus ini, kita akan menggunakan training set sebesar 70% dari total dataset dan testing set sebesar 30% dari total dataset."
      ]
    },
    {
      "cell_type": "code",
      "execution_count": 3,
      "metadata": {
        "id": "OubAW-7ONKVj"
      },
      "outputs": [
        {
          "name": "stdout",
          "output_type": "stream",
          "text": [
            "Training set shape: (1375, 8), (1375,)\n",
            "Testing set shape: (590, 8), (590,)\n"
          ]
        }
      ],
      "source": [
        "# Define the features and target variable\n",
        "X = df_clustered_customers.drop(columns=['Cluster'])\n",
        "y = df_clustered_customers['Cluster']\n",
        "\n",
        "# Split the data into training and testing sets with a ratio of 7:3\n",
        "X_train, X_test, y_train, y_test = train_test_split(X, y, test_size=0.3, random_state=42)\n",
        "\n",
        "# Display the shape of the resulting datasets\n",
        "print(f\"Training set shape: {X_train.shape}, {y_train.shape}\")\n",
        "print(f\"Testing set shape: {X_test.shape}, {y_test.shape}\")"
      ]
    },
    {
      "cell_type": "markdown",
      "metadata": {},
      "source": [
        "Setelah dataset dibagi ke dalam training set dan testing set dengan proporsi 70:30, kita mendapatkan total 1375 sampel data pada training set dan 590 sampel data pada testing set."
      ]
    },
    {
      "cell_type": "markdown",
      "metadata": {
        "id": "IVPbB03CMhTT"
      },
      "source": [
        "# **4. Membangun Model Klasifikasi**\n"
      ]
    },
    {
      "cell_type": "markdown",
      "metadata": {
        "id": "Ned1pL9zMmBK"
      },
      "source": [
        "## **a. Membangun Model Klasifikasi**"
      ]
    },
    {
      "cell_type": "markdown",
      "metadata": {
        "id": "WAWzPOE4Nkti"
      },
      "source": [
        "Pada tahap ini, kita akan membangun model klasifikasi menggunakan algoritma Logistic Regression, Decision Tree, Random Forest, dan K-Nearest Neighbors (K-NN). Model-model ini akan dilatih menggunakan training set yang telah dibagi sebelumnya."
      ]
    },
    {
      "cell_type": "code",
      "execution_count": 6,
      "metadata": {
        "id": "4JYxBe87NLDk"
      },
      "outputs": [
        {
          "name": "stderr",
          "output_type": "stream",
          "text": [
            "/home/bima/miniconda3/envs/ai/lib/python3.9/site-packages/sklearn/linear_model/_logistic.py:469: ConvergenceWarning: lbfgs failed to converge (status=1):\n",
            "STOP: TOTAL NO. of ITERATIONS REACHED LIMIT.\n",
            "\n",
            "Increase the number of iterations (max_iter) or scale the data as shown in:\n",
            "    https://scikit-learn.org/stable/modules/preprocessing.html\n",
            "Please also refer to the documentation for alternative solver options:\n",
            "    https://scikit-learn.org/stable/modules/linear_model.html#logistic-regression\n",
            "  n_iter_i = _check_optimize_result(\n"
          ]
        },
        {
          "name": "stdout",
          "output_type": "stream",
          "text": [
            "Models have been trained successfully.\n",
            "CPU times: user 1.07 s, sys: 1.03 s, total: 2.11 s\n",
            "Wall time: 868 ms\n"
          ]
        }
      ],
      "source": [
        "%%time\n",
        "\n",
        "# Initialize the classifiers\n",
        "lr_classifier = LogisticRegression(random_state=42, max_iter=1000)\n",
        "dt_classifier = DecisionTreeClassifier(random_state=42)\n",
        "rf_classifier = RandomForestClassifier(random_state=42)\n",
        "knn_classifier = KNeighborsClassifier()\n",
        "\n",
        "# Train the classifiers\n",
        "lr_classifier.fit(X_train, y_train)\n",
        "dt_classifier.fit(X_train, y_train)\n",
        "rf_classifier.fit(X_train, y_train)\n",
        "knn_classifier.fit(X_train, y_train)\n",
        "\n",
        "# Print a message indicating that the models have been trained\n",
        "print(\"Models have been trained successfully.\")"
      ]
    },
    {
      "cell_type": "markdown",
      "metadata": {
        "id": "seYoHNY3XU1y"
      },
      "source": [
        "Berikut adalah penjelasan singkat mengenai algoritma-algoritma yang dipilih untuk membangun model klasifikasi:\n",
        "\n",
        "1. **Logistic Regression**:\n",
        "\n",
        "    Logistic Regression adalah algoritma klasifikasi yang digunakan untuk memprediksi probabilitas dari kelas target yang bersifat biner (dua kelas). Algoritma ini menggunakan fungsi logistik (sigmoid) untuk mengubah output dari regresi linear menjadi probabilitas antara 0 dan 1. Logistic Regression cocok digunakan untuk masalah klasifikasi sederhana dan memberikan interpretasi yang mudah dipahami.\n",
        "\n",
        "2. **Decision Tree**:\n",
        "\n",
        "    Decision Tree adalah algoritma klasifikasi yang menggunakan struktur pohon untuk membuat keputusan berdasarkan fitur input. Setiap node dalam pohon mewakili fitur dari dataset, setiap cabang mewakili keputusan (rule), dan setiap daun mewakili label kelas. Algoritma ini bekerja dengan membagi dataset menjadi subset yang lebih kecil berdasarkan fitur yang memberikan informasi paling banyak (misalnya, menggunakan kriteria Gini atau Entropy). Decision Tree mudah diinterpretasikan dan digunakan untuk masalah klasifikasi dan regresi.\n",
        "\n",
        "3. **Random Forest**:\n",
        "\n",
        "    Random Forest adalah algoritma ensemble yang menggabungkan beberapa Decision Tree untuk meningkatkan akurasi dan mengurangi overfitting. Algoritma ini bekerja dengan membuat banyak Decision Tree dari subset acak dari data dan fitur, kemudian menggabungkan hasil prediksi dari setiap pohon untuk membuat keputusan akhir (biasanya menggunakan voting mayoritas untuk klasifikasi). Random Forest sangat kuat dan sering digunakan dalam berbagai aplikasi karena kemampuannya untuk menangani data yang kompleks dan beragam.\n",
        "\n",
        "4. **K-Nearest Neighbors (K-NN)**:\n",
        "\n",
        "    K-Nearest Neighbors (K-NN) adalah algoritma klasifikasi yang bekerja dengan mencari sejumlah K tetangga terdekat dari data yang akan diklasifikasikan. Algoritma ini menggunakan metrik jarak (misalnya, Euclidean distance) untuk menentukan tetangga terdekat. Kelas dari data baru ditentukan berdasarkan mayoritas kelas dari K tetangga terdekat. K-NN sederhana dan intuitif, namun bisa menjadi lambat dan tidak efisien untuk dataset yang besar karena harus menghitung jarak ke semua data dalam training set."
      ]
    },
    {
      "cell_type": "markdown",
      "metadata": {
        "id": "ergzChZFEL-O"
      },
      "source": [
        "## **b. Evaluasi Model Klasifikasi**"
      ]
    },
    {
      "cell_type": "markdown",
      "metadata": {
        "id": "zOm68u-7NpLT"
      },
      "source": [
        "Pada tahap ini, kita akan mengevaluasi model klasifikasi yang telah dibangun menggunakan training set. Evaluasi dilakukan dengan melakukan prediksi pada testing set dan menghitung beberapa metrik evaluasi seperti akurasi (accuracy), presisi (precision), recall, F1-score, dan confusion matrix."
      ]
    },
    {
      "cell_type": "code",
      "execution_count": 10,
      "metadata": {
        "id": "tMq4QAssNLip"
      },
      "outputs": [
        {
          "name": "stdout",
          "output_type": "stream",
          "text": [
            "Logistic Regression - Accuracy: 0.911864406779661, F1-Score: 0.9118573134533119, Precision: 0.9118711894811995, Recall: 0.911864406779661\n",
            "Decision Tree - Accuracy: 1.0, F1-Score: 1.0, Precision: 1.0, Recall: 1.0\n",
            "Random Forest - Accuracy: 1.0, F1-Score: 1.0, Precision: 1.0, Recall: 1.0\n",
            "K-Nearest Neighbors - Accuracy: 1.0, F1-Score: 1.0, Precision: 1.0, Recall: 1.0\n"
          ]
        },
        {
          "data": {
            "image/png": "[encoded data removed]",
            "text/plain": [
              "<Figure size 1200x1000 with 8 Axes>"
            ]
          },
          "metadata": {},
          "output_type": "display_data"
        }
      ],
      "source": [
        "# Perform predictions using the test data\n",
        "y_pred_lr = lr_classifier.predict(X_test)\n",
        "y_pred_dt = dt_classifier.predict(X_test)\n",
        "y_pred_rf = rf_classifier.predict(X_test)\n",
        "y_pred_knn = knn_classifier.predict(X_test)\n",
        "\n",
        "# Calculate evaluation metrics\n",
        "accuracy_lr = accuracy_score(y_test, y_pred_lr)\n",
        "f1_lr = f1_score(y_test, y_pred_lr, average='weighted')\n",
        "precision_lr = precision_score(y_test, y_pred_lr, average='weighted')\n",
        "recall_lr = recall_score(y_test, y_pred_lr, average='weighted')\n",
        "\n",
        "accuracy_dt = accuracy_score(y_test, y_pred_dt)\n",
        "f1_dt = f1_score(y_test, y_pred_dt, average='weighted')\n",
        "precision_dt = precision_score(y_test, y_pred_dt, average='weighted')\n",
        "recall_dt = recall_score(y_test, y_pred_dt, average='weighted')\n",
        "\n",
        "accuracy_rf = accuracy_score(y_test, y_pred_rf)\n",
        "f1_rf = f1_score(y_test, y_pred_rf, average='weighted')\n",
        "precision_rf = precision_score(y_test, y_pred_rf, average='weighted')\n",
        "recall_rf = recall_score(y_test, y_pred_rf, average='weighted')\n",
        "\n",
        "accuracy_knn = accuracy_score(y_test, y_pred_knn)\n",
        "f1_knn = f1_score(y_test, y_pred_knn, average='weighted')\n",
        "precision_knn = precision_score(y_test, y_pred_knn, average='weighted')\n",
        "recall_knn = recall_score(y_test, y_pred_knn, average='weighted')\n",
        "\n",
        "# Print evaluation metrics\n",
        "print(f\"Logistic Regression - Accuracy: {accuracy_lr}, F1-Score: {f1_lr}, Precision: {precision_lr}, Recall: {recall_lr}\")\n",
        "print(f\"Decision Tree - Accuracy: {accuracy_dt}, F1-Score: {f1_dt}, Precision: {precision_dt}, Recall: {recall_dt}\")\n",
        "print(f\"Random Forest - Accuracy: {accuracy_rf}, F1-Score: {f1_rf}, Precision: {precision_rf}, Recall: {recall_rf}\")\n",
        "print(f\"K-Nearest Neighbors - Accuracy: {accuracy_knn}, F1-Score: {f1_knn}, Precision: {precision_knn}, Recall: {recall_knn}\")\n",
        "\n",
        "# Create confusion matrices\n",
        "conf_matrix_lr = confusion_matrix(y_test, y_pred_lr)\n",
        "conf_matrix_dt = confusion_matrix(y_test, y_pred_dt)\n",
        "conf_matrix_rf = confusion_matrix(y_test, y_pred_rf)\n",
        "conf_matrix_knn = confusion_matrix(y_test, y_pred_knn)\n",
        "\n",
        "# Plot confusion matrices\n",
        "fig, axes = plt.subplots(2, 2, figsize=(12, 10))\n",
        "\n",
        "sns.heatmap(conf_matrix_lr, annot=True, fmt='d', ax=axes[0, 0], cmap='Blues')\n",
        "axes[0, 0].set_title('Logistic Regression')\n",
        "axes[0, 0].set_xlabel('Predicted')\n",
        "axes[0, 0].set_ylabel('Actual')\n",
        "\n",
        "sns.heatmap(conf_matrix_dt, annot=True, fmt='d', ax=axes[0, 1], cmap='Blues')\n",
        "axes[0, 1].set_title('Decision Tree')\n",
        "axes[0, 1].set_xlabel('Predicted')\n",
        "axes[0, 1].set_ylabel('Actual')\n",
        "\n",
        "sns.heatmap(conf_matrix_rf, annot=True, fmt='d', ax=axes[1, 0], cmap='Blues')\n",
        "axes[1, 0].set_title('Random Forest')\n",
        "axes[1, 0].set_xlabel('Predicted')\n",
        "axes[1, 0].set_ylabel('Actual')\n",
        "\n",
        "sns.heatmap(conf_matrix_knn, annot=True, fmt='d', ax=axes[1, 1], cmap='Blues')\n",
        "axes[1, 1].set_title('K-Nearest Neighbors')\n",
        "axes[1, 1].set_xlabel('Predicted')\n",
        "axes[1, 1].set_ylabel('Actual')\n",
        "\n",
        "plt.tight_layout()\n",
        "plt.show()"
      ]
    },
    {
      "cell_type": "markdown",
      "metadata": {
        "id": "H4_9OwrsXZlz"
      },
      "source": [
        "Dari hasil evaluasi model klasifikasi, kita dapat mengetahui seberapa baik model dapat mengklasifikasikan data ke dalam kelas yang benar. **Logistic Regression** memiliki nilai akurasi sebesar `0.9119`, F1-Score sebesar `0.9119`, Precision sebesar `0.9119`, dan Recall sebesar `0.9119`. Sementara itu, model **Decision Tree**, **Random Forest**, dan **K-Nearest Neighbors** semuanya memiliki nilai akurasi, F1-Score, Precision, dan Recall yang sempurna yaitu `1.0`. Hal ini menunjukkan bahwa ketiga model tersebut mampu mengklasifikasikan data dengan sangat baik tanpa kesalahan pada dataset yang digunakan."
      ]
    },
    {
      "cell_type": "markdown",
      "metadata": {},
      "source": []
    }
  ],
  "metadata": {
    "colab": {
      "provenance": []
    },
    "kernelspec": {
      "display_name": "ai",
      "language": "python",
      "name": "python3"
    },
    "language_info": {
      "codemirror_mode": {
        "name": "ipython",
        "version": 3
      },
      "file_extension": ".py",
      "mimetype": "text/x-python",
      "name": "python",
      "nbconvert_exporter": "python",
      "pygments_lexer": "ipython3",
      "version": "3.9.19"
    }
  },
  "nbformat": 4,
  "nbformat_minor": 0
}
